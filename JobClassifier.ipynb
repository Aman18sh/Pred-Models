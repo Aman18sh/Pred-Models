{
 "cells": [
  {
   "cell_type": "markdown",
   "id": "6105d513-2260-4ef4-a73a-514d0e94ac3a",
   "metadata": {},
   "source": [
    "# Job Posting Classification Based on Required Skills"
   ]
  },
  {
   "cell_type": "markdown",
   "id": "c1f60016-709e-4299-9f65-aafb90b827bf",
   "metadata": {},
   "source": [
    "Scraping job listings from the website to get the dataset to create the model."
   ]
  },
  {
   "cell_type": "code",
   "execution_count": 659,
   "id": "9ba79d2b-d8f4-496a-92e6-946b982bc69d",
   "metadata": {},
   "outputs": [],
   "source": [
    "import requests\n",
    "from bs4 import BeautifulSoup\n",
    "import pandas as pd\n",
    "import time\n",
    "\n",
    "def scrape_karkidi_jobs(keyword=\"data science\", pages=1):\n",
    "    headers = {'User-Agent': 'Mozilla/5.0'}\n",
    "    base_url = \"https://www.karkidi.com/Find-Jobs/{page}/all/India?search={query}\"\n",
    "    jobs_list = []\n",
    "\n",
    "    for page in range(1, pages + 1):\n",
    "        url = base_url.format(page=page, query=keyword.replace(' ', '%20'))\n",
    "        print(f\"Scraping page: {page}\")\n",
    "        response = requests.get(url, headers=headers)\n",
    "        soup = BeautifulSoup(response.content, \"html.parser\")\n",
    "\n",
    "        job_blocks = soup.find_all(\"div\", class_=\"ads-details\")\n",
    "        for job in job_blocks:\n",
    "            try:\n",
    "                title = job.find(\"h4\").get_text(strip=True)\n",
    "                company = job.find(\"a\", href=lambda x: x and \"Employer-Profile\" in x).get_text(strip=True)\n",
    "                location = job.find(\"p\").get_text(strip=True)\n",
    "                experience = job.find(\"p\", class_=\"emp-exp\").get_text(strip=True)\n",
    "                key_skills_tag = job.find(\"span\", string=\"Key Skills\")\n",
    "                skills = key_skills_tag.find_next(\"p\").get_text(strip=True) if key_skills_tag else \"\"\n",
    "                summary_tag = job.find(\"span\", string=\"Summary\")\n",
    "                summary = summary_tag.find_next(\"p\").get_text(strip=True) if summary_tag else \"\"\n",
    "\n",
    "                jobs_list.append({\n",
    "                    \"Title\": title,\n",
    "                    \"Company\": company,\n",
    "                    \"Location\": location,\n",
    "                    \"Experience\": experience,\n",
    "                    \"Summary\": summary,\n",
    "                    \"Skills\": skills\n",
    "                })\n",
    "            except Exception as e:\n",
    "                print(f\"Error parsing job block: {e}\")\n",
    "                continue\n",
    "\n",
    "        time.sleep(1)  # Be nice to the server\n",
    "\n",
    "    return pd.DataFrame(jobs_list)\n",
    "\n",
    "# Example use:\n",
    "if __name__ == \"__main__\":\n",
    "    df_jobs = scrape_karkidi_jobs(keyword=\"data science\", pages=20)\n",
    "    print(df_jobs.head())"
   ]
  },
  {
   "cell_type": "code",
   "execution_count": 624,
   "id": "6216091f-8c6b-405d-94ca-e70fe59b18ae",
   "metadata": {},
   "outputs": [
    {
     "data": {
      "text/plain": [
       "Principal Product Manager - Growth, Poe (Remote)                 20\n",
       "Machine Learning Physical Design Engineer                        20\n",
       "Staff Software Engineer - Monetization, Poe (Remote)             20\n",
       "Staff Backend Engineer - Bot Creator Ecosystem, Poe (Remote)     20\n",
       "Senior Backend Engineer - Bot Creator Ecosystem, Poe (Remote)    20\n",
       "Data Scientist Lead - AIML                                       20\n",
       "Applied AI ML Director - Machine Learning                        20\n",
       "Senior Product Designer                                          20\n",
       "Manager - Machine Learning                                       20\n",
       "Data Scientist                                                   20\n",
       "Name: Title, dtype: int64"
      ]
     },
     "execution_count": 624,
     "metadata": {},
     "output_type": "execute_result"
    }
   ],
   "source": [
    "df_jobs['Title'].value_counts()"
   ]
  },
  {
   "cell_type": "code",
   "execution_count": 626,
   "id": "81a010f7-cef0-43b5-8fea-6ff652b384b2",
   "metadata": {},
   "outputs": [
    {
     "data": {
      "text/plain": [
       "Aartificial intelligence,API,Data science techniques,Design,Effective communication skills,Large Language Models - LLMs,Python Programming,Teamwork                                                                      20\n",
       "Aartificial intelligence,Data Analytics,Data science techniques,Effective communication skills,Generative AI,GPT,NumPy,Pandas,Product Management,Python Programming,SQL                                                  10\n",
       "Aartificial intelligence,Algorithms,Data structuring,Design,Machine learning techniques                                                                                                                                  10\n",
       "Aartificial intelligence,Analytical and Problem solving,API,Data Analysis,Database,Design,Effective communication skills,GraphQL,Large Language Models - LLMs,Next.JS,Python Programming,React.js,Teamwork,TypeScript    10\n",
       "Aartificial intelligence,Data science techniques,Large Language Models - LLMs,Machine learning techniques,Natural Language Processing (NLP),Python Programming                                                           10\n",
       "Aartificial intelligence,AWS,Azure,Google Cloud Platform (GCP),Kubernetes-K8s,Large Language Models - LLMs,Machine learning techniques                                                                                   10\n",
       "Design,Leadership Skill,Machine learning techniques                                                                                                                                                                      10\n",
       "Aartificial intelligence,Large Language Models - LLMs,Machine learning techniques,Natural Language Processing (NLP)                                                                                                      10\n",
       "Amazon RedShift,Apache Hadoop,Data science techniques,Google BigQuery,Google Cloud Platform (GCP),Python Programming,R Programming,SQL                                                                                   10\n",
       "Name: Skills, dtype: int64"
      ]
     },
     "execution_count": 626,
     "metadata": {},
     "output_type": "execute_result"
    }
   ],
   "source": [
    "df['Skills'].value_counts()"
   ]
  },
  {
   "cell_type": "code",
   "execution_count": 628,
   "id": "9242b297-844f-4d3b-96f5-4e841252e76a",
   "metadata": {},
   "outputs": [
    {
     "data": {
      "text/plain": [
       "(200, 6)"
      ]
     },
     "execution_count": 628,
     "metadata": {},
     "output_type": "execute_result"
    }
   ],
   "source": [
    "df_jobs.shape"
   ]
  },
  {
   "cell_type": "code",
   "execution_count": 630,
   "id": "8fd6e23f-082a-4c90-aba6-4893c0c8b041",
   "metadata": {},
   "outputs": [
    {
     "data": {
      "text/html": [
       "<div>\n",
       "<style scoped>\n",
       "    .dataframe tbody tr th:only-of-type {\n",
       "        vertical-align: middle;\n",
       "    }\n",
       "\n",
       "    .dataframe tbody tr th {\n",
       "        vertical-align: top;\n",
       "    }\n",
       "\n",
       "    .dataframe thead th {\n",
       "        text-align: right;\n",
       "    }\n",
       "</style>\n",
       "<table border=\"1\" class=\"dataframe\">\n",
       "  <thead>\n",
       "    <tr style=\"text-align: right;\">\n",
       "      <th></th>\n",
       "      <th>Title</th>\n",
       "      <th>Company</th>\n",
       "      <th>Location</th>\n",
       "      <th>Experience</th>\n",
       "      <th>Summary</th>\n",
       "      <th>Skills</th>\n",
       "    </tr>\n",
       "  </thead>\n",
       "  <tbody>\n",
       "    <tr>\n",
       "      <th>0</th>\n",
       "      <td>Principal Product Manager - Growth, Poe (Remote)</td>\n",
       "      <td>Quora, Inc.</td>\n",
       "      <td>India</td>\n",
       "      <td>6-8 year</td>\n",
       "      <td>About Quora:Quora’s mission is to grow and sha...</td>\n",
       "      <td>Aartificial intelligence,Data Analytics,Data s...</td>\n",
       "    </tr>\n",
       "    <tr>\n",
       "      <th>1</th>\n",
       "      <td>Machine Learning Physical Design Engineer</td>\n",
       "      <td>Google</td>\n",
       "      <td>Bengaluru, Karnataka, India</td>\n",
       "      <td>4-6 year</td>\n",
       "      <td>Minimum qualifications:Bachelor's degree in El...</td>\n",
       "      <td>Aartificial intelligence,Algorithms,Data struc...</td>\n",
       "    </tr>\n",
       "    <tr>\n",
       "      <th>2</th>\n",
       "      <td>Staff Software Engineer - Monetization, Poe (R...</td>\n",
       "      <td>Quora, Inc.</td>\n",
       "      <td>India</td>\n",
       "      <td>8-10 year</td>\n",
       "      <td>About Quora:Quora’s mission is to grow and sha...</td>\n",
       "      <td>Aartificial intelligence,Analytical and Proble...</td>\n",
       "    </tr>\n",
       "    <tr>\n",
       "      <th>3</th>\n",
       "      <td>Staff Backend Engineer - Bot Creator Ecosystem...</td>\n",
       "      <td>Quora, Inc.</td>\n",
       "      <td>India</td>\n",
       "      <td>8-10 year</td>\n",
       "      <td>About Quora:Quora’s mission is to grow and sha...</td>\n",
       "      <td>Aartificial intelligence,API,Data science tech...</td>\n",
       "    </tr>\n",
       "    <tr>\n",
       "      <th>4</th>\n",
       "      <td>Senior Backend Engineer - Bot Creator Ecosyste...</td>\n",
       "      <td>Quora, Inc.</td>\n",
       "      <td>India</td>\n",
       "      <td>6-8 year</td>\n",
       "      <td>About Quora:Quora’s mission is to grow and sha...</td>\n",
       "      <td>Aartificial intelligence,API,Data science tech...</td>\n",
       "    </tr>\n",
       "    <tr>\n",
       "      <th>5</th>\n",
       "      <td>Data Scientist Lead - AIML</td>\n",
       "      <td>JPMorgan Chase</td>\n",
       "      <td>Bengaluru, Karnataka, India</td>\n",
       "      <td>6-8 year</td>\n",
       "      <td>We have an opportunity to impact your career a...</td>\n",
       "      <td>Aartificial intelligence,Data science techniqu...</td>\n",
       "    </tr>\n",
       "    <tr>\n",
       "      <th>6</th>\n",
       "      <td>Applied AI ML Director - Machine Learning</td>\n",
       "      <td>JPMorgan Chase</td>\n",
       "      <td>Hyderabad, Telangana, India</td>\n",
       "      <td>12-14 year</td>\n",
       "      <td>Elevate your career as the Director of Machine...</td>\n",
       "      <td>Aartificial intelligence,AWS,Azure,Google Clou...</td>\n",
       "    </tr>\n",
       "    <tr>\n",
       "      <th>7</th>\n",
       "      <td>Senior Product Designer</td>\n",
       "      <td>Observe.AI</td>\n",
       "      <td>Bangalore, Karnataka, India</td>\n",
       "      <td>8-10 year</td>\n",
       "      <td>Observe.AI is transforming customer service wi...</td>\n",
       "      <td>Design,Leadership Skill,Machine learning techn...</td>\n",
       "    </tr>\n",
       "    <tr>\n",
       "      <th>8</th>\n",
       "      <td>Manager - Machine Learning</td>\n",
       "      <td>Observe.AI</td>\n",
       "      <td>Bangalore, Karnataka, India</td>\n",
       "      <td>8-10 year</td>\n",
       "      <td>Observe.AI is transforming customer service wi...</td>\n",
       "      <td>Aartificial intelligence,Large Language Models...</td>\n",
       "    </tr>\n",
       "    <tr>\n",
       "      <th>9</th>\n",
       "      <td>Data Scientist</td>\n",
       "      <td>Spotify</td>\n",
       "      <td>Mumbai, Maharashtra, India</td>\n",
       "      <td>6-8 year</td>\n",
       "      <td>We are looking for a Data Scientist to join th...</td>\n",
       "      <td>Amazon RedShift,Apache Hadoop,Data science tec...</td>\n",
       "    </tr>\n",
       "  </tbody>\n",
       "</table>\n",
       "</div>"
      ],
      "text/plain": [
       "                                               Title         Company  \\\n",
       "0   Principal Product Manager - Growth, Poe (Remote)     Quora, Inc.   \n",
       "1          Machine Learning Physical Design Engineer          Google   \n",
       "2  Staff Software Engineer - Monetization, Poe (R...     Quora, Inc.   \n",
       "3  Staff Backend Engineer - Bot Creator Ecosystem...     Quora, Inc.   \n",
       "4  Senior Backend Engineer - Bot Creator Ecosyste...     Quora, Inc.   \n",
       "5                         Data Scientist Lead - AIML  JPMorgan Chase   \n",
       "6          Applied AI ML Director - Machine Learning  JPMorgan Chase   \n",
       "7                            Senior Product Designer      Observe.AI   \n",
       "8                         Manager - Machine Learning      Observe.AI   \n",
       "9                                     Data Scientist         Spotify   \n",
       "\n",
       "                      Location  Experience  \\\n",
       "0                        India    6-8 year   \n",
       "1  Bengaluru, Karnataka, India    4-6 year   \n",
       "2                        India   8-10 year   \n",
       "3                        India   8-10 year   \n",
       "4                        India    6-8 year   \n",
       "5  Bengaluru, Karnataka, India    6-8 year   \n",
       "6  Hyderabad, Telangana, India  12-14 year   \n",
       "7  Bangalore, Karnataka, India   8-10 year   \n",
       "8  Bangalore, Karnataka, India   8-10 year   \n",
       "9   Mumbai, Maharashtra, India    6-8 year   \n",
       "\n",
       "                                             Summary  \\\n",
       "0  About Quora:Quora’s mission is to grow and sha...   \n",
       "1  Minimum qualifications:Bachelor's degree in El...   \n",
       "2  About Quora:Quora’s mission is to grow and sha...   \n",
       "3  About Quora:Quora’s mission is to grow and sha...   \n",
       "4  About Quora:Quora’s mission is to grow and sha...   \n",
       "5  We have an opportunity to impact your career a...   \n",
       "6  Elevate your career as the Director of Machine...   \n",
       "7  Observe.AI is transforming customer service wi...   \n",
       "8  Observe.AI is transforming customer service wi...   \n",
       "9  We are looking for a Data Scientist to join th...   \n",
       "\n",
       "                                              Skills  \n",
       "0  Aartificial intelligence,Data Analytics,Data s...  \n",
       "1  Aartificial intelligence,Algorithms,Data struc...  \n",
       "2  Aartificial intelligence,Analytical and Proble...  \n",
       "3  Aartificial intelligence,API,Data science tech...  \n",
       "4  Aartificial intelligence,API,Data science tech...  \n",
       "5  Aartificial intelligence,Data science techniqu...  \n",
       "6  Aartificial intelligence,AWS,Azure,Google Clou...  \n",
       "7  Design,Leadership Skill,Machine learning techn...  \n",
       "8  Aartificial intelligence,Large Language Models...  \n",
       "9  Amazon RedShift,Apache Hadoop,Data science tec...  "
      ]
     },
     "execution_count": 630,
     "metadata": {},
     "output_type": "execute_result"
    }
   ],
   "source": [
    "df_jobs.head(10)"
   ]
  },
  {
   "cell_type": "code",
   "execution_count": null,
   "id": "9880385c-48e8-4c44-96ff-979a27759c96",
   "metadata": {},
   "outputs": [],
   "source": []
  },
  {
   "cell_type": "code",
   "execution_count": null,
   "id": "81ac628f-ff1e-4950-b79a-ee9847da13a3",
   "metadata": {},
   "outputs": [],
   "source": []
  },
  {
   "cell_type": "markdown",
   "id": "f042246e-46c4-4ddc-8250-de6e5cd91701",
   "metadata": {},
   "source": [
    "# Exporting the whole scraped data in csv format!"
   ]
  },
  {
   "cell_type": "code",
   "execution_count": 665,
   "id": "09abddbe-5f8a-4ed3-8fec-2aa97c8ca0b5",
   "metadata": {},
   "outputs": [],
   "source": [
    "df_jobs.to_csv('scrap_jobs.csv', index=False)"
   ]
  },
  {
   "cell_type": "markdown",
   "id": "05a4c5c9-4ad6-4166-80b0-6b32cb27aea5",
   "metadata": {},
   "source": [
    "# Importing the Scrap data!"
   ]
  },
  {
   "cell_type": "code",
   "execution_count": 668,
   "id": "0fd7e0b5-5aa6-429b-b180-eac5f2014ce4",
   "metadata": {},
   "outputs": [
    {
     "data": {
      "text/html": [
       "<div>\n",
       "<style scoped>\n",
       "    .dataframe tbody tr th:only-of-type {\n",
       "        vertical-align: middle;\n",
       "    }\n",
       "\n",
       "    .dataframe tbody tr th {\n",
       "        vertical-align: top;\n",
       "    }\n",
       "\n",
       "    .dataframe thead th {\n",
       "        text-align: right;\n",
       "    }\n",
       "</style>\n",
       "<table border=\"1\" class=\"dataframe\">\n",
       "  <thead>\n",
       "    <tr style=\"text-align: right;\">\n",
       "      <th></th>\n",
       "      <th>Title</th>\n",
       "      <th>Company</th>\n",
       "      <th>Location</th>\n",
       "      <th>Experience</th>\n",
       "      <th>Summary</th>\n",
       "      <th>Skills</th>\n",
       "    </tr>\n",
       "  </thead>\n",
       "  <tbody>\n",
       "    <tr>\n",
       "      <th>0</th>\n",
       "      <td>Principal Product Manager - Growth, Poe (Remote)</td>\n",
       "      <td>Quora, Inc.</td>\n",
       "      <td>India</td>\n",
       "      <td>6-8 year</td>\n",
       "      <td>About Quora:Quora’s mission is to grow and sha...</td>\n",
       "      <td>Aartificial intelligence,Data Analytics,Data s...</td>\n",
       "    </tr>\n",
       "    <tr>\n",
       "      <th>1</th>\n",
       "      <td>Machine Learning Physical Design Engineer</td>\n",
       "      <td>Google</td>\n",
       "      <td>Bengaluru, Karnataka, India</td>\n",
       "      <td>4-6 year</td>\n",
       "      <td>Minimum qualifications:Bachelor's degree in El...</td>\n",
       "      <td>Aartificial intelligence,Algorithms,Data struc...</td>\n",
       "    </tr>\n",
       "    <tr>\n",
       "      <th>2</th>\n",
       "      <td>Staff Software Engineer - Monetization, Poe (R...</td>\n",
       "      <td>Quora, Inc.</td>\n",
       "      <td>India</td>\n",
       "      <td>8-10 year</td>\n",
       "      <td>About Quora:Quora’s mission is to grow and sha...</td>\n",
       "      <td>Aartificial intelligence,Analytical and Proble...</td>\n",
       "    </tr>\n",
       "    <tr>\n",
       "      <th>3</th>\n",
       "      <td>Staff Backend Engineer - Bot Creator Ecosystem...</td>\n",
       "      <td>Quora, Inc.</td>\n",
       "      <td>India</td>\n",
       "      <td>8-10 year</td>\n",
       "      <td>About Quora:Quora’s mission is to grow and sha...</td>\n",
       "      <td>Aartificial intelligence,API,Data science tech...</td>\n",
       "    </tr>\n",
       "    <tr>\n",
       "      <th>4</th>\n",
       "      <td>Senior Backend Engineer - Bot Creator Ecosyste...</td>\n",
       "      <td>Quora, Inc.</td>\n",
       "      <td>India</td>\n",
       "      <td>6-8 year</td>\n",
       "      <td>About Quora:Quora’s mission is to grow and sha...</td>\n",
       "      <td>Aartificial intelligence,API,Data science tech...</td>\n",
       "    </tr>\n",
       "    <tr>\n",
       "      <th>...</th>\n",
       "      <td>...</td>\n",
       "      <td>...</td>\n",
       "      <td>...</td>\n",
       "      <td>...</td>\n",
       "      <td>...</td>\n",
       "      <td>...</td>\n",
       "    </tr>\n",
       "    <tr>\n",
       "      <th>195</th>\n",
       "      <td>Data Scientist Lead - AIML</td>\n",
       "      <td>JPMorgan Chase</td>\n",
       "      <td>Bengaluru, Karnataka, India</td>\n",
       "      <td>6-8 year</td>\n",
       "      <td>We have an opportunity to impact your career a...</td>\n",
       "      <td>Aartificial intelligence,Data science techniqu...</td>\n",
       "    </tr>\n",
       "    <tr>\n",
       "      <th>196</th>\n",
       "      <td>Applied AI ML Director - Machine Learning</td>\n",
       "      <td>JPMorgan Chase</td>\n",
       "      <td>Hyderabad, Telangana, India</td>\n",
       "      <td>12-14 year</td>\n",
       "      <td>Elevate your career as the Director of Machine...</td>\n",
       "      <td>Aartificial intelligence,AWS,Azure,Google Clou...</td>\n",
       "    </tr>\n",
       "    <tr>\n",
       "      <th>197</th>\n",
       "      <td>Senior Product Designer</td>\n",
       "      <td>Observe.AI</td>\n",
       "      <td>Bangalore, Karnataka, India</td>\n",
       "      <td>8-10 year</td>\n",
       "      <td>Observe.AI is transforming customer service wi...</td>\n",
       "      <td>Design,Leadership Skill,Machine learning techn...</td>\n",
       "    </tr>\n",
       "    <tr>\n",
       "      <th>198</th>\n",
       "      <td>Manager - Machine Learning</td>\n",
       "      <td>Observe.AI</td>\n",
       "      <td>Bangalore, Karnataka, India</td>\n",
       "      <td>8-10 year</td>\n",
       "      <td>Observe.AI is transforming customer service wi...</td>\n",
       "      <td>Aartificial intelligence,Large Language Models...</td>\n",
       "    </tr>\n",
       "    <tr>\n",
       "      <th>199</th>\n",
       "      <td>Data Scientist</td>\n",
       "      <td>Spotify</td>\n",
       "      <td>Mumbai, Maharashtra, India</td>\n",
       "      <td>6-8 year</td>\n",
       "      <td>We are looking for a Data Scientist to join th...</td>\n",
       "      <td>Amazon RedShift,Apache Hadoop,Data science tec...</td>\n",
       "    </tr>\n",
       "  </tbody>\n",
       "</table>\n",
       "<p>200 rows × 6 columns</p>\n",
       "</div>"
      ],
      "text/plain": [
       "                                                 Title         Company  \\\n",
       "0     Principal Product Manager - Growth, Poe (Remote)     Quora, Inc.   \n",
       "1            Machine Learning Physical Design Engineer          Google   \n",
       "2    Staff Software Engineer - Monetization, Poe (R...     Quora, Inc.   \n",
       "3    Staff Backend Engineer - Bot Creator Ecosystem...     Quora, Inc.   \n",
       "4    Senior Backend Engineer - Bot Creator Ecosyste...     Quora, Inc.   \n",
       "..                                                 ...             ...   \n",
       "195                         Data Scientist Lead - AIML  JPMorgan Chase   \n",
       "196          Applied AI ML Director - Machine Learning  JPMorgan Chase   \n",
       "197                            Senior Product Designer      Observe.AI   \n",
       "198                         Manager - Machine Learning      Observe.AI   \n",
       "199                                     Data Scientist         Spotify   \n",
       "\n",
       "                        Location  Experience  \\\n",
       "0                          India    6-8 year   \n",
       "1    Bengaluru, Karnataka, India    4-6 year   \n",
       "2                          India   8-10 year   \n",
       "3                          India   8-10 year   \n",
       "4                          India    6-8 year   \n",
       "..                           ...         ...   \n",
       "195  Bengaluru, Karnataka, India    6-8 year   \n",
       "196  Hyderabad, Telangana, India  12-14 year   \n",
       "197  Bangalore, Karnataka, India   8-10 year   \n",
       "198  Bangalore, Karnataka, India   8-10 year   \n",
       "199   Mumbai, Maharashtra, India    6-8 year   \n",
       "\n",
       "                                               Summary  \\\n",
       "0    About Quora:Quora’s mission is to grow and sha...   \n",
       "1    Minimum qualifications:Bachelor's degree in El...   \n",
       "2    About Quora:Quora’s mission is to grow and sha...   \n",
       "3    About Quora:Quora’s mission is to grow and sha...   \n",
       "4    About Quora:Quora’s mission is to grow and sha...   \n",
       "..                                                 ...   \n",
       "195  We have an opportunity to impact your career a...   \n",
       "196  Elevate your career as the Director of Machine...   \n",
       "197  Observe.AI is transforming customer service wi...   \n",
       "198  Observe.AI is transforming customer service wi...   \n",
       "199  We are looking for a Data Scientist to join th...   \n",
       "\n",
       "                                                Skills  \n",
       "0    Aartificial intelligence,Data Analytics,Data s...  \n",
       "1    Aartificial intelligence,Algorithms,Data struc...  \n",
       "2    Aartificial intelligence,Analytical and Proble...  \n",
       "3    Aartificial intelligence,API,Data science tech...  \n",
       "4    Aartificial intelligence,API,Data science tech...  \n",
       "..                                                 ...  \n",
       "195  Aartificial intelligence,Data science techniqu...  \n",
       "196  Aartificial intelligence,AWS,Azure,Google Clou...  \n",
       "197  Design,Leadership Skill,Machine learning techn...  \n",
       "198  Aartificial intelligence,Large Language Models...  \n",
       "199  Amazon RedShift,Apache Hadoop,Data science tec...  \n",
       "\n",
       "[200 rows x 6 columns]"
      ]
     },
     "execution_count": 668,
     "metadata": {},
     "output_type": "execute_result"
    }
   ],
   "source": [
    "df = pd.read_csv('scrap_jobs.csv')\n",
    "df"
   ]
  },
  {
   "cell_type": "code",
   "execution_count": 670,
   "id": "30b0fe2b-2538-4746-873d-38a618d7b221",
   "metadata": {},
   "outputs": [
    {
     "name": "stdout",
     "output_type": "stream",
     "text": [
      "<class 'pandas.core.frame.DataFrame'>\n",
      "RangeIndex: 200 entries, 0 to 199\n",
      "Data columns (total 6 columns):\n",
      " #   Column      Non-Null Count  Dtype \n",
      "---  ------      --------------  ----- \n",
      " 0   Title       200 non-null    object\n",
      " 1   Company     200 non-null    object\n",
      " 2   Location    200 non-null    object\n",
      " 3   Experience  200 non-null    object\n",
      " 4   Summary     200 non-null    object\n",
      " 5   Skills      200 non-null    object\n",
      "dtypes: object(6)\n",
      "memory usage: 9.5+ KB\n"
     ]
    }
   ],
   "source": [
    "df.info()"
   ]
  },
  {
   "cell_type": "code",
   "execution_count": 672,
   "id": "e26305a6-d27b-407b-beb9-e092ac3bd53c",
   "metadata": {},
   "outputs": [
    {
     "data": {
      "text/plain": [
       "Aartificial intelligence,API,Data science techniques,Design,Effective communication skills,Large Language Models - LLMs,Python Programming,Teamwork                                                                      40\n",
       "Aartificial intelligence,Data Analytics,Data science techniques,Effective communication skills,Generative AI,GPT,NumPy,Pandas,Product Management,Python Programming,SQL                                                  20\n",
       "Aartificial intelligence,Algorithms,Data structuring,Design,Machine learning techniques                                                                                                                                  20\n",
       "Aartificial intelligence,Analytical and Problem solving,API,Data Analysis,Database,Design,Effective communication skills,GraphQL,Large Language Models - LLMs,Next.JS,Python Programming,React.js,Teamwork,TypeScript    20\n",
       "Aartificial intelligence,Data science techniques,Large Language Models - LLMs,Machine learning techniques,Natural Language Processing (NLP),Python Programming                                                           20\n",
       "Aartificial intelligence,AWS,Azure,Google Cloud Platform (GCP),Kubernetes-K8s,Large Language Models - LLMs,Machine learning techniques                                                                                   20\n",
       "Design,Leadership Skill,Machine learning techniques                                                                                                                                                                      20\n",
       "Aartificial intelligence,Large Language Models - LLMs,Machine learning techniques,Natural Language Processing (NLP)                                                                                                      20\n",
       "Amazon RedShift,Apache Hadoop,Data science techniques,Google BigQuery,Google Cloud Platform (GCP),Python Programming,R Programming,SQL                                                                                   20\n",
       "Name: Skills, dtype: int64"
      ]
     },
     "execution_count": 672,
     "metadata": {},
     "output_type": "execute_result"
    }
   ],
   "source": [
    "df['Skills'].value_counts()"
   ]
  },
  {
   "cell_type": "code",
   "execution_count": 674,
   "id": "9982b742-3f9d-4057-a58a-b7fabab343c1",
   "metadata": {},
   "outputs": [
    {
     "data": {
      "text/plain": [
       "Principal Product Manager - Growth, Poe (Remote)                 20\n",
       "Machine Learning Physical Design Engineer                        20\n",
       "Staff Software Engineer - Monetization, Poe (Remote)             20\n",
       "Staff Backend Engineer - Bot Creator Ecosystem, Poe (Remote)     20\n",
       "Senior Backend Engineer - Bot Creator Ecosystem, Poe (Remote)    20\n",
       "Data Scientist Lead - AIML                                       20\n",
       "Applied AI ML Director - Machine Learning                        20\n",
       "Senior Product Designer                                          20\n",
       "Manager - Machine Learning                                       20\n",
       "Data Scientist                                                   20\n",
       "Name: Title, dtype: int64"
      ]
     },
     "execution_count": 674,
     "metadata": {},
     "output_type": "execute_result"
    }
   ],
   "source": [
    "df['Title'].value_counts()"
   ]
  },
  {
   "cell_type": "code",
   "execution_count": 676,
   "id": "c25956c5-0414-4e50-b77d-6d0e2c414509",
   "metadata": {},
   "outputs": [
    {
     "data": {
      "text/plain": [
       "['Aartificial intelligence',\n",
       " 'Data Analytics',\n",
       " 'Data science techniques',\n",
       " 'Effective communication skills',\n",
       " 'Generative AI',\n",
       " 'GPT',\n",
       " 'NumPy',\n",
       " 'Pandas',\n",
       " 'Product Management',\n",
       " 'Python Programming',\n",
       " 'SQL']"
      ]
     },
     "execution_count": 676,
     "metadata": {},
     "output_type": "execute_result"
    }
   ],
   "source": [
    "df['Skills'][0].split(',')"
   ]
  },
  {
   "cell_type": "code",
   "execution_count": 678,
   "id": "22e4f635-b297-4601-8c07-0622887ef0a8",
   "metadata": {},
   "outputs": [],
   "source": [
    "df['Skills_clean'] = df['Skills'].str.lower().str.replace(r'[^a-z,]', ' ', regex=True)"
   ]
  },
  {
   "cell_type": "code",
   "execution_count": 680,
   "id": "1fe6bda9-0390-4c64-a731-7d6bc43432f2",
   "metadata": {},
   "outputs": [],
   "source": [
    "df['Filter_skills'] = df['Skills_clean'].str.replace(',',' ')"
   ]
  },
  {
   "cell_type": "code",
   "execution_count": 682,
   "id": "e1721fb3-7806-4129-852e-f6a0ecda2566",
   "metadata": {},
   "outputs": [
    {
     "data": {
      "text/html": [
       "<div>\n",
       "<style scoped>\n",
       "    .dataframe tbody tr th:only-of-type {\n",
       "        vertical-align: middle;\n",
       "    }\n",
       "\n",
       "    .dataframe tbody tr th {\n",
       "        vertical-align: top;\n",
       "    }\n",
       "\n",
       "    .dataframe thead th {\n",
       "        text-align: right;\n",
       "    }\n",
       "</style>\n",
       "<table border=\"1\" class=\"dataframe\">\n",
       "  <thead>\n",
       "    <tr style=\"text-align: right;\">\n",
       "      <th></th>\n",
       "      <th>Title</th>\n",
       "      <th>Company</th>\n",
       "      <th>Location</th>\n",
       "      <th>Experience</th>\n",
       "      <th>Summary</th>\n",
       "      <th>Skills</th>\n",
       "      <th>Skills_clean</th>\n",
       "      <th>Filter_skills</th>\n",
       "    </tr>\n",
       "  </thead>\n",
       "  <tbody>\n",
       "    <tr>\n",
       "      <th>0</th>\n",
       "      <td>Principal Product Manager - Growth, Poe (Remote)</td>\n",
       "      <td>Quora, Inc.</td>\n",
       "      <td>India</td>\n",
       "      <td>6-8 year</td>\n",
       "      <td>About Quora:Quora’s mission is to grow and sha...</td>\n",
       "      <td>Aartificial intelligence,Data Analytics,Data s...</td>\n",
       "      <td>aartificial intelligence,data analytics,data s...</td>\n",
       "      <td>aartificial intelligence data analytics data s...</td>\n",
       "    </tr>\n",
       "    <tr>\n",
       "      <th>1</th>\n",
       "      <td>Machine Learning Physical Design Engineer</td>\n",
       "      <td>Google</td>\n",
       "      <td>Bengaluru, Karnataka, India</td>\n",
       "      <td>4-6 year</td>\n",
       "      <td>Minimum qualifications:Bachelor's degree in El...</td>\n",
       "      <td>Aartificial intelligence,Algorithms,Data struc...</td>\n",
       "      <td>aartificial intelligence,algorithms,data struc...</td>\n",
       "      <td>aartificial intelligence algorithms data struc...</td>\n",
       "    </tr>\n",
       "    <tr>\n",
       "      <th>2</th>\n",
       "      <td>Staff Software Engineer - Monetization, Poe (R...</td>\n",
       "      <td>Quora, Inc.</td>\n",
       "      <td>India</td>\n",
       "      <td>8-10 year</td>\n",
       "      <td>About Quora:Quora’s mission is to grow and sha...</td>\n",
       "      <td>Aartificial intelligence,Analytical and Proble...</td>\n",
       "      <td>aartificial intelligence,analytical and proble...</td>\n",
       "      <td>aartificial intelligence analytical and proble...</td>\n",
       "    </tr>\n",
       "    <tr>\n",
       "      <th>3</th>\n",
       "      <td>Staff Backend Engineer - Bot Creator Ecosystem...</td>\n",
       "      <td>Quora, Inc.</td>\n",
       "      <td>India</td>\n",
       "      <td>8-10 year</td>\n",
       "      <td>About Quora:Quora’s mission is to grow and sha...</td>\n",
       "      <td>Aartificial intelligence,API,Data science tech...</td>\n",
       "      <td>aartificial intelligence,api,data science tech...</td>\n",
       "      <td>aartificial intelligence api data science tech...</td>\n",
       "    </tr>\n",
       "    <tr>\n",
       "      <th>4</th>\n",
       "      <td>Senior Backend Engineer - Bot Creator Ecosyste...</td>\n",
       "      <td>Quora, Inc.</td>\n",
       "      <td>India</td>\n",
       "      <td>6-8 year</td>\n",
       "      <td>About Quora:Quora’s mission is to grow and sha...</td>\n",
       "      <td>Aartificial intelligence,API,Data science tech...</td>\n",
       "      <td>aartificial intelligence,api,data science tech...</td>\n",
       "      <td>aartificial intelligence api data science tech...</td>\n",
       "    </tr>\n",
       "  </tbody>\n",
       "</table>\n",
       "</div>"
      ],
      "text/plain": [
       "                                               Title      Company  \\\n",
       "0   Principal Product Manager - Growth, Poe (Remote)  Quora, Inc.   \n",
       "1          Machine Learning Physical Design Engineer       Google   \n",
       "2  Staff Software Engineer - Monetization, Poe (R...  Quora, Inc.   \n",
       "3  Staff Backend Engineer - Bot Creator Ecosystem...  Quora, Inc.   \n",
       "4  Senior Backend Engineer - Bot Creator Ecosyste...  Quora, Inc.   \n",
       "\n",
       "                      Location Experience  \\\n",
       "0                        India   6-8 year   \n",
       "1  Bengaluru, Karnataka, India   4-6 year   \n",
       "2                        India  8-10 year   \n",
       "3                        India  8-10 year   \n",
       "4                        India   6-8 year   \n",
       "\n",
       "                                             Summary  \\\n",
       "0  About Quora:Quora’s mission is to grow and sha...   \n",
       "1  Minimum qualifications:Bachelor's degree in El...   \n",
       "2  About Quora:Quora’s mission is to grow and sha...   \n",
       "3  About Quora:Quora’s mission is to grow and sha...   \n",
       "4  About Quora:Quora’s mission is to grow and sha...   \n",
       "\n",
       "                                              Skills  \\\n",
       "0  Aartificial intelligence,Data Analytics,Data s...   \n",
       "1  Aartificial intelligence,Algorithms,Data struc...   \n",
       "2  Aartificial intelligence,Analytical and Proble...   \n",
       "3  Aartificial intelligence,API,Data science tech...   \n",
       "4  Aartificial intelligence,API,Data science tech...   \n",
       "\n",
       "                                        Skills_clean  \\\n",
       "0  aartificial intelligence,data analytics,data s...   \n",
       "1  aartificial intelligence,algorithms,data struc...   \n",
       "2  aartificial intelligence,analytical and proble...   \n",
       "3  aartificial intelligence,api,data science tech...   \n",
       "4  aartificial intelligence,api,data science tech...   \n",
       "\n",
       "                                       Filter_skills  \n",
       "0  aartificial intelligence data analytics data s...  \n",
       "1  aartificial intelligence algorithms data struc...  \n",
       "2  aartificial intelligence analytical and proble...  \n",
       "3  aartificial intelligence api data science tech...  \n",
       "4  aartificial intelligence api data science tech...  "
      ]
     },
     "execution_count": 682,
     "metadata": {},
     "output_type": "execute_result"
    }
   ],
   "source": [
    "df.head()"
   ]
  },
  {
   "cell_type": "markdown",
   "id": "eaff1ea0-da17-4c2e-a945-d68965e64e38",
   "metadata": {},
   "source": [
    "# Text Vectorization!"
   ]
  },
  {
   "cell_type": "code",
   "execution_count": 685,
   "id": "3f904822-c65d-4e17-8a20-66e34d98d735",
   "metadata": {},
   "outputs": [
    {
     "data": {
      "text/html": [
       "<style>#sk-container-id-11 {\n",
       "  /* Definition of color scheme common for light and dark mode */\n",
       "  --sklearn-color-text: black;\n",
       "  --sklearn-color-line: gray;\n",
       "  /* Definition of color scheme for unfitted estimators */\n",
       "  --sklearn-color-unfitted-level-0: #fff5e6;\n",
       "  --sklearn-color-unfitted-level-1: #f6e4d2;\n",
       "  --sklearn-color-unfitted-level-2: #ffe0b3;\n",
       "  --sklearn-color-unfitted-level-3: chocolate;\n",
       "  /* Definition of color scheme for fitted estimators */\n",
       "  --sklearn-color-fitted-level-0: #f0f8ff;\n",
       "  --sklearn-color-fitted-level-1: #d4ebff;\n",
       "  --sklearn-color-fitted-level-2: #b3dbfd;\n",
       "  --sklearn-color-fitted-level-3: cornflowerblue;\n",
       "\n",
       "  /* Specific color for light theme */\n",
       "  --sklearn-color-text-on-default-background: var(--sg-text-color, var(--theme-code-foreground, var(--jp-content-font-color1, black)));\n",
       "  --sklearn-color-background: var(--sg-background-color, var(--theme-background, var(--jp-layout-color0, white)));\n",
       "  --sklearn-color-border-box: var(--sg-text-color, var(--theme-code-foreground, var(--jp-content-font-color1, black)));\n",
       "  --sklearn-color-icon: #696969;\n",
       "\n",
       "  @media (prefers-color-scheme: dark) {\n",
       "    /* Redefinition of color scheme for dark theme */\n",
       "    --sklearn-color-text-on-default-background: var(--sg-text-color, var(--theme-code-foreground, var(--jp-content-font-color1, white)));\n",
       "    --sklearn-color-background: var(--sg-background-color, var(--theme-background, var(--jp-layout-color0, #111)));\n",
       "    --sklearn-color-border-box: var(--sg-text-color, var(--theme-code-foreground, var(--jp-content-font-color1, white)));\n",
       "    --sklearn-color-icon: #878787;\n",
       "  }\n",
       "}\n",
       "\n",
       "#sk-container-id-11 {\n",
       "  color: var(--sklearn-color-text);\n",
       "}\n",
       "\n",
       "#sk-container-id-11 pre {\n",
       "  padding: 0;\n",
       "}\n",
       "\n",
       "#sk-container-id-11 input.sk-hidden--visually {\n",
       "  border: 0;\n",
       "  clip: rect(1px 1px 1px 1px);\n",
       "  clip: rect(1px, 1px, 1px, 1px);\n",
       "  height: 1px;\n",
       "  margin: -1px;\n",
       "  overflow: hidden;\n",
       "  padding: 0;\n",
       "  position: absolute;\n",
       "  width: 1px;\n",
       "}\n",
       "\n",
       "#sk-container-id-11 div.sk-dashed-wrapped {\n",
       "  border: 1px dashed var(--sklearn-color-line);\n",
       "  margin: 0 0.4em 0.5em 0.4em;\n",
       "  box-sizing: border-box;\n",
       "  padding-bottom: 0.4em;\n",
       "  background-color: var(--sklearn-color-background);\n",
       "}\n",
       "\n",
       "#sk-container-id-11 div.sk-container {\n",
       "  /* jupyter's `normalize.less` sets `[hidden] { display: none; }`\n",
       "     but bootstrap.min.css set `[hidden] { display: none !important; }`\n",
       "     so we also need the `!important` here to be able to override the\n",
       "     default hidden behavior on the sphinx rendered scikit-learn.org.\n",
       "     See: https://github.com/scikit-learn/scikit-learn/issues/21755 */\n",
       "  display: inline-block !important;\n",
       "  position: relative;\n",
       "}\n",
       "\n",
       "#sk-container-id-11 div.sk-text-repr-fallback {\n",
       "  display: none;\n",
       "}\n",
       "\n",
       "div.sk-parallel-item,\n",
       "div.sk-serial,\n",
       "div.sk-item {\n",
       "  /* draw centered vertical line to link estimators */\n",
       "  background-image: linear-gradient(var(--sklearn-color-text-on-default-background), var(--sklearn-color-text-on-default-background));\n",
       "  background-size: 2px 100%;\n",
       "  background-repeat: no-repeat;\n",
       "  background-position: center center;\n",
       "}\n",
       "\n",
       "/* Parallel-specific style estimator block */\n",
       "\n",
       "#sk-container-id-11 div.sk-parallel-item::after {\n",
       "  content: \"\";\n",
       "  width: 100%;\n",
       "  border-bottom: 2px solid var(--sklearn-color-text-on-default-background);\n",
       "  flex-grow: 1;\n",
       "}\n",
       "\n",
       "#sk-container-id-11 div.sk-parallel {\n",
       "  display: flex;\n",
       "  align-items: stretch;\n",
       "  justify-content: center;\n",
       "  background-color: var(--sklearn-color-background);\n",
       "  position: relative;\n",
       "}\n",
       "\n",
       "#sk-container-id-11 div.sk-parallel-item {\n",
       "  display: flex;\n",
       "  flex-direction: column;\n",
       "}\n",
       "\n",
       "#sk-container-id-11 div.sk-parallel-item:first-child::after {\n",
       "  align-self: flex-end;\n",
       "  width: 50%;\n",
       "}\n",
       "\n",
       "#sk-container-id-11 div.sk-parallel-item:last-child::after {\n",
       "  align-self: flex-start;\n",
       "  width: 50%;\n",
       "}\n",
       "\n",
       "#sk-container-id-11 div.sk-parallel-item:only-child::after {\n",
       "  width: 0;\n",
       "}\n",
       "\n",
       "/* Serial-specific style estimator block */\n",
       "\n",
       "#sk-container-id-11 div.sk-serial {\n",
       "  display: flex;\n",
       "  flex-direction: column;\n",
       "  align-items: center;\n",
       "  background-color: var(--sklearn-color-background);\n",
       "  padding-right: 1em;\n",
       "  padding-left: 1em;\n",
       "}\n",
       "\n",
       "\n",
       "/* Toggleable style: style used for estimator/Pipeline/ColumnTransformer box that is\n",
       "clickable and can be expanded/collapsed.\n",
       "- Pipeline and ColumnTransformer use this feature and define the default style\n",
       "- Estimators will overwrite some part of the style using the `sk-estimator` class\n",
       "*/\n",
       "\n",
       "/* Pipeline and ColumnTransformer style (default) */\n",
       "\n",
       "#sk-container-id-11 div.sk-toggleable {\n",
       "  /* Default theme specific background. It is overwritten whether we have a\n",
       "  specific estimator or a Pipeline/ColumnTransformer */\n",
       "  background-color: var(--sklearn-color-background);\n",
       "}\n",
       "\n",
       "/* Toggleable label */\n",
       "#sk-container-id-11 label.sk-toggleable__label {\n",
       "  cursor: pointer;\n",
       "  display: block;\n",
       "  width: 100%;\n",
       "  margin-bottom: 0;\n",
       "  padding: 0.5em;\n",
       "  box-sizing: border-box;\n",
       "  text-align: center;\n",
       "}\n",
       "\n",
       "#sk-container-id-11 label.sk-toggleable__label-arrow:before {\n",
       "  /* Arrow on the left of the label */\n",
       "  content: \"▸\";\n",
       "  float: left;\n",
       "  margin-right: 0.25em;\n",
       "  color: var(--sklearn-color-icon);\n",
       "}\n",
       "\n",
       "#sk-container-id-11 label.sk-toggleable__label-arrow:hover:before {\n",
       "  color: var(--sklearn-color-text);\n",
       "}\n",
       "\n",
       "/* Toggleable content - dropdown */\n",
       "\n",
       "#sk-container-id-11 div.sk-toggleable__content {\n",
       "  max-height: 0;\n",
       "  max-width: 0;\n",
       "  overflow: hidden;\n",
       "  text-align: left;\n",
       "  /* unfitted */\n",
       "  background-color: var(--sklearn-color-unfitted-level-0);\n",
       "}\n",
       "\n",
       "#sk-container-id-11 div.sk-toggleable__content.fitted {\n",
       "  /* fitted */\n",
       "  background-color: var(--sklearn-color-fitted-level-0);\n",
       "}\n",
       "\n",
       "#sk-container-id-11 div.sk-toggleable__content pre {\n",
       "  margin: 0.2em;\n",
       "  border-radius: 0.25em;\n",
       "  color: var(--sklearn-color-text);\n",
       "  /* unfitted */\n",
       "  background-color: var(--sklearn-color-unfitted-level-0);\n",
       "}\n",
       "\n",
       "#sk-container-id-11 div.sk-toggleable__content.fitted pre {\n",
       "  /* unfitted */\n",
       "  background-color: var(--sklearn-color-fitted-level-0);\n",
       "}\n",
       "\n",
       "#sk-container-id-11 input.sk-toggleable__control:checked~div.sk-toggleable__content {\n",
       "  /* Expand drop-down */\n",
       "  max-height: 200px;\n",
       "  max-width: 100%;\n",
       "  overflow: auto;\n",
       "}\n",
       "\n",
       "#sk-container-id-11 input.sk-toggleable__control:checked~label.sk-toggleable__label-arrow:before {\n",
       "  content: \"▾\";\n",
       "}\n",
       "\n",
       "/* Pipeline/ColumnTransformer-specific style */\n",
       "\n",
       "#sk-container-id-11 div.sk-label input.sk-toggleable__control:checked~label.sk-toggleable__label {\n",
       "  color: var(--sklearn-color-text);\n",
       "  background-color: var(--sklearn-color-unfitted-level-2);\n",
       "}\n",
       "\n",
       "#sk-container-id-11 div.sk-label.fitted input.sk-toggleable__control:checked~label.sk-toggleable__label {\n",
       "  background-color: var(--sklearn-color-fitted-level-2);\n",
       "}\n",
       "\n",
       "/* Estimator-specific style */\n",
       "\n",
       "/* Colorize estimator box */\n",
       "#sk-container-id-11 div.sk-estimator input.sk-toggleable__control:checked~label.sk-toggleable__label {\n",
       "  /* unfitted */\n",
       "  background-color: var(--sklearn-color-unfitted-level-2);\n",
       "}\n",
       "\n",
       "#sk-container-id-11 div.sk-estimator.fitted input.sk-toggleable__control:checked~label.sk-toggleable__label {\n",
       "  /* fitted */\n",
       "  background-color: var(--sklearn-color-fitted-level-2);\n",
       "}\n",
       "\n",
       "#sk-container-id-11 div.sk-label label.sk-toggleable__label,\n",
       "#sk-container-id-11 div.sk-label label {\n",
       "  /* The background is the default theme color */\n",
       "  color: var(--sklearn-color-text-on-default-background);\n",
       "}\n",
       "\n",
       "/* On hover, darken the color of the background */\n",
       "#sk-container-id-11 div.sk-label:hover label.sk-toggleable__label {\n",
       "  color: var(--sklearn-color-text);\n",
       "  background-color: var(--sklearn-color-unfitted-level-2);\n",
       "}\n",
       "\n",
       "/* Label box, darken color on hover, fitted */\n",
       "#sk-container-id-11 div.sk-label.fitted:hover label.sk-toggleable__label.fitted {\n",
       "  color: var(--sklearn-color-text);\n",
       "  background-color: var(--sklearn-color-fitted-level-2);\n",
       "}\n",
       "\n",
       "/* Estimator label */\n",
       "\n",
       "#sk-container-id-11 div.sk-label label {\n",
       "  font-family: monospace;\n",
       "  font-weight: bold;\n",
       "  display: inline-block;\n",
       "  line-height: 1.2em;\n",
       "}\n",
       "\n",
       "#sk-container-id-11 div.sk-label-container {\n",
       "  text-align: center;\n",
       "}\n",
       "\n",
       "/* Estimator-specific */\n",
       "#sk-container-id-11 div.sk-estimator {\n",
       "  font-family: monospace;\n",
       "  border: 1px dotted var(--sklearn-color-border-box);\n",
       "  border-radius: 0.25em;\n",
       "  box-sizing: border-box;\n",
       "  margin-bottom: 0.5em;\n",
       "  /* unfitted */\n",
       "  background-color: var(--sklearn-color-unfitted-level-0);\n",
       "}\n",
       "\n",
       "#sk-container-id-11 div.sk-estimator.fitted {\n",
       "  /* fitted */\n",
       "  background-color: var(--sklearn-color-fitted-level-0);\n",
       "}\n",
       "\n",
       "/* on hover */\n",
       "#sk-container-id-11 div.sk-estimator:hover {\n",
       "  /* unfitted */\n",
       "  background-color: var(--sklearn-color-unfitted-level-2);\n",
       "}\n",
       "\n",
       "#sk-container-id-11 div.sk-estimator.fitted:hover {\n",
       "  /* fitted */\n",
       "  background-color: var(--sklearn-color-fitted-level-2);\n",
       "}\n",
       "\n",
       "/* Specification for estimator info (e.g. \"i\" and \"?\") */\n",
       "\n",
       "/* Common style for \"i\" and \"?\" */\n",
       "\n",
       ".sk-estimator-doc-link,\n",
       "a:link.sk-estimator-doc-link,\n",
       "a:visited.sk-estimator-doc-link {\n",
       "  float: right;\n",
       "  font-size: smaller;\n",
       "  line-height: 1em;\n",
       "  font-family: monospace;\n",
       "  background-color: var(--sklearn-color-background);\n",
       "  border-radius: 1em;\n",
       "  height: 1em;\n",
       "  width: 1em;\n",
       "  text-decoration: none !important;\n",
       "  margin-left: 1ex;\n",
       "  /* unfitted */\n",
       "  border: var(--sklearn-color-unfitted-level-1) 1pt solid;\n",
       "  color: var(--sklearn-color-unfitted-level-1);\n",
       "}\n",
       "\n",
       ".sk-estimator-doc-link.fitted,\n",
       "a:link.sk-estimator-doc-link.fitted,\n",
       "a:visited.sk-estimator-doc-link.fitted {\n",
       "  /* fitted */\n",
       "  border: var(--sklearn-color-fitted-level-1) 1pt solid;\n",
       "  color: var(--sklearn-color-fitted-level-1);\n",
       "}\n",
       "\n",
       "/* On hover */\n",
       "div.sk-estimator:hover .sk-estimator-doc-link:hover,\n",
       ".sk-estimator-doc-link:hover,\n",
       "div.sk-label-container:hover .sk-estimator-doc-link:hover,\n",
       ".sk-estimator-doc-link:hover {\n",
       "  /* unfitted */\n",
       "  background-color: var(--sklearn-color-unfitted-level-3);\n",
       "  color: var(--sklearn-color-background);\n",
       "  text-decoration: none;\n",
       "}\n",
       "\n",
       "div.sk-estimator.fitted:hover .sk-estimator-doc-link.fitted:hover,\n",
       ".sk-estimator-doc-link.fitted:hover,\n",
       "div.sk-label-container:hover .sk-estimator-doc-link.fitted:hover,\n",
       ".sk-estimator-doc-link.fitted:hover {\n",
       "  /* fitted */\n",
       "  background-color: var(--sklearn-color-fitted-level-3);\n",
       "  color: var(--sklearn-color-background);\n",
       "  text-decoration: none;\n",
       "}\n",
       "\n",
       "/* Span, style for the box shown on hovering the info icon */\n",
       ".sk-estimator-doc-link span {\n",
       "  display: none;\n",
       "  z-index: 9999;\n",
       "  position: relative;\n",
       "  font-weight: normal;\n",
       "  right: .2ex;\n",
       "  padding: .5ex;\n",
       "  margin: .5ex;\n",
       "  width: min-content;\n",
       "  min-width: 20ex;\n",
       "  max-width: 50ex;\n",
       "  color: var(--sklearn-color-text);\n",
       "  box-shadow: 2pt 2pt 4pt #999;\n",
       "  /* unfitted */\n",
       "  background: var(--sklearn-color-unfitted-level-0);\n",
       "  border: .5pt solid var(--sklearn-color-unfitted-level-3);\n",
       "}\n",
       "\n",
       ".sk-estimator-doc-link.fitted span {\n",
       "  /* fitted */\n",
       "  background: var(--sklearn-color-fitted-level-0);\n",
       "  border: var(--sklearn-color-fitted-level-3);\n",
       "}\n",
       "\n",
       ".sk-estimator-doc-link:hover span {\n",
       "  display: block;\n",
       "}\n",
       "\n",
       "/* \"?\"-specific style due to the `<a>` HTML tag */\n",
       "\n",
       "#sk-container-id-11 a.estimator_doc_link {\n",
       "  float: right;\n",
       "  font-size: 1rem;\n",
       "  line-height: 1em;\n",
       "  font-family: monospace;\n",
       "  background-color: var(--sklearn-color-background);\n",
       "  border-radius: 1rem;\n",
       "  height: 1rem;\n",
       "  width: 1rem;\n",
       "  text-decoration: none;\n",
       "  /* unfitted */\n",
       "  color: var(--sklearn-color-unfitted-level-1);\n",
       "  border: var(--sklearn-color-unfitted-level-1) 1pt solid;\n",
       "}\n",
       "\n",
       "#sk-container-id-11 a.estimator_doc_link.fitted {\n",
       "  /* fitted */\n",
       "  border: var(--sklearn-color-fitted-level-1) 1pt solid;\n",
       "  color: var(--sklearn-color-fitted-level-1);\n",
       "}\n",
       "\n",
       "/* On hover */\n",
       "#sk-container-id-11 a.estimator_doc_link:hover {\n",
       "  /* unfitted */\n",
       "  background-color: var(--sklearn-color-unfitted-level-3);\n",
       "  color: var(--sklearn-color-background);\n",
       "  text-decoration: none;\n",
       "}\n",
       "\n",
       "#sk-container-id-11 a.estimator_doc_link.fitted:hover {\n",
       "  /* fitted */\n",
       "  background-color: var(--sklearn-color-fitted-level-3);\n",
       "}\n",
       "</style><div id=\"sk-container-id-11\" class=\"sk-top-container\"><div class=\"sk-text-repr-fallback\"><pre>TfidfVectorizer(token_pattern=None,\n",
       "                tokenizer=&lt;function &lt;lambda&gt; at 0x0000011F65387160&gt;)</pre><b>In a Jupyter environment, please rerun this cell to show the HTML representation or trust the notebook. <br />On GitHub, the HTML representation is unable to render, please try loading this page with nbviewer.org.</b></div><div class=\"sk-container\" hidden><div class=\"sk-item\"><div class=\"sk-estimator  sk-toggleable\"><input class=\"sk-toggleable__control sk-hidden--visually\" id=\"sk-estimator-id-11\" type=\"checkbox\" checked><label for=\"sk-estimator-id-11\" class=\"sk-toggleable__label  sk-toggleable__label-arrow \">&nbsp;&nbsp;TfidfVectorizer<a class=\"sk-estimator-doc-link \" rel=\"noreferrer\" target=\"_blank\" href=\"https://scikit-learn.org/1.5/modules/generated/sklearn.feature_extraction.text.TfidfVectorizer.html\">?<span>Documentation for TfidfVectorizer</span></a><span class=\"sk-estimator-doc-link \">i<span>Not fitted</span></span></label><div class=\"sk-toggleable__content \"><pre>TfidfVectorizer(token_pattern=None,\n",
       "                tokenizer=&lt;function &lt;lambda&gt; at 0x0000011F65387160&gt;)</pre></div> </div></div></div></div>"
      ],
      "text/plain": [
       "TfidfVectorizer(token_pattern=None,\n",
       "                tokenizer=<function <lambda> at 0x0000011F65387160>)"
      ]
     },
     "execution_count": 685,
     "metadata": {},
     "output_type": "execute_result"
    }
   ],
   "source": [
    "from sklearn.feature_extraction.text import TfidfVectorizer\n",
    "vectorizer = TfidfVectorizer(tokenizer=lambda x: x.split(','),token_pattern=None, lowercase=True)\n",
    "vectorizer"
   ]
  },
  {
   "cell_type": "code",
   "execution_count": 687,
   "id": "cd9cc683-4359-453d-bcad-281ca54eee1d",
   "metadata": {},
   "outputs": [
    {
     "data": {
      "text/plain": [
       "array([[0.13603231, 0.        , 0.        , ..., 0.28831097, 0.        ,\n",
       "        0.        ],\n",
       "       [0.22915527, 0.61115219, 0.        , ..., 0.        , 0.        ,\n",
       "        0.        ],\n",
       "       [0.1243971 , 0.        , 0.        , ..., 0.        , 0.22320316,\n",
       "        0.3317644 ],\n",
       "       ...,\n",
       "       [0.        , 0.        , 0.        , ..., 0.        , 0.        ,\n",
       "        0.        ],\n",
       "       [0.33476949, 0.        , 0.        , ..., 0.        , 0.        ,\n",
       "        0.        ],\n",
       "       [0.        , 0.        , 0.41719424, ..., 0.3315415 , 0.        ,\n",
       "        0.        ]])"
      ]
     },
     "execution_count": 687,
     "metadata": {},
     "output_type": "execute_result"
    }
   ],
   "source": [
    "skill_matrix = vectorizer.fit_transform(df['Skills_clean'])\n",
    "skill_matrix.toarray()"
   ]
  },
  {
   "cell_type": "code",
   "execution_count": 689,
   "id": "d7f615cb-50a4-4cb4-a01e-f09645bcde88",
   "metadata": {},
   "outputs": [
    {
     "name": "stdout",
     "output_type": "stream",
     "text": [
      "['aartificial intelligence' 'algorithms' 'amazon redshift'\n",
      " 'analytical and problem solving' 'apache hadoop' 'api' 'aws' 'azure'\n",
      " 'data analysis' 'data analytics' 'data science techniques'\n",
      " 'data structuring' 'database' 'design' 'effective communication skills'\n",
      " 'generative ai' 'google bigquery' 'google cloud platform  gcp ' 'gpt'\n",
      " 'graphql' 'kubernetes k s' 'large language models   llms'\n",
      " 'leadership skill' 'machine learning techniques'\n",
      " 'natural language processing  nlp ' 'next js' 'numpy' 'pandas'\n",
      " 'product management' 'python programming' 'r programming' 'react js'\n",
      " 'sql' 'teamwork' 'typescript']\n"
     ]
    }
   ],
   "source": [
    "print(vectorizer.get_feature_names_out())"
   ]
  },
  {
   "cell_type": "code",
   "execution_count": 691,
   "id": "9dd1468e-8ff9-4615-9b24-f1352fd7a789",
   "metadata": {},
   "outputs": [
    {
     "data": {
      "text/plain": [
       "(1, 35)"
      ]
     },
     "execution_count": 691,
     "metadata": {},
     "output_type": "execute_result"
    }
   ],
   "source": [
    "skill_matrix[0].toarray().shape"
   ]
  },
  {
   "cell_type": "markdown",
   "id": "d7bb35ac-3da9-4df2-87d1-71a156084a23",
   "metadata": {},
   "source": [
    "# ElbowCurve to select the appropriate no of clusters"
   ]
  },
  {
   "cell_type": "code",
   "execution_count": 933,
   "id": "4c9fe020-4700-46e1-8b5b-9553a4bc1546",
   "metadata": {},
   "outputs": [
    {
     "data": {
      "text/plain": [
       "[145.6032679430782,\n",
       " 115.89509503921613,\n",
       " 94.6940048714075,\n",
       " 67.99469025089581,\n",
       " 57.29989426250365,\n",
       " 42.59212837320858,\n",
       " 17.64394694910257,\n",
       " 3.002621242589576,\n",
       " 2.220446049250313e-15]"
      ]
     },
     "execution_count": 933,
     "metadata": {},
     "output_type": "execute_result"
    }
   ],
   "source": [
    "import matplotlib.pyplot as plt\n",
    "from sklearn.cluster import KMeans\n",
    "\n",
    "wcss = []\n",
    "\n",
    "for i in range(1,10):\n",
    "    kmeans = KMeans(n_clusters=i)\n",
    "    kmeans.fit_predict(skill_matrix)\n",
    "    wcss.append(kmeans.inertia_)\n",
    "wcss"
   ]
  },
  {
   "cell_type": "code",
   "execution_count": 940,
   "id": "ae20948f-b9a8-4d16-90e8-ab660bfcfd9d",
   "metadata": {},
   "outputs": [
    {
     "data": {
      "text/plain": [
       "[<matplotlib.lines.Line2D at 0x11f4eb529a0>]"
      ]
     },
     "execution_count": 940,
     "metadata": {},
     "output_type": "execute_result"
    },
    {
     "data": {
      "image/png": "[encoded data removed]",
      "text/plain": [
       "<Figure size 640x480 with 1 Axes>"
      ]
     },
     "metadata": {},
     "output_type": "display_data"
    }
   ],
   "source": [
    "plt.plot(range(1,10),wcss)"
   ]
  },
  {
   "cell_type": "markdown",
   "id": "7193b417-bf5d-4105-bf6b-7b5edab84419",
   "metadata": {},
   "source": [
    "# Silhouette_score"
   ]
  },
  {
   "cell_type": "code",
   "execution_count": 957,
   "id": "bc42af3d-ef72-4ecd-b078-d22b280e360e",
   "metadata": {},
   "outputs": [
    {
     "data": {
      "image/png": "[encoded data removed]",
      "text/plain": [
       "<Figure size 640x480 with 1 Axes>"
      ]
     },
     "metadata": {},
     "output_type": "display_data"
    }
   ],
   "source": [
    "from sklearn.metrics import silhouette_score\n",
    "\n",
    "scores = []\n",
    "for k in range(2, 10):\n",
    "    km = KMeans(n_clusters=k)\n",
    "    labels = km.fit_predict(skill_matrix)\n",
    "    scores.append(silhouette_score(skill_matrix, labels))\n",
    "\n",
    "plt.plot(range(2, 10), scores)\n",
    "plt.title(\"Silhouette Score vs. Number of Clusters\")\n",
    "plt.xlabel(\"k\")\n",
    "plt.ylabel(\"Silhouette Score\")\n",
    "plt.show()"
   ]
  },
  {
   "cell_type": "markdown",
   "id": "a9f68506-2f13-4c21-af63-648900695650",
   "metadata": {},
   "source": [
    "# Applying KMeans"
   ]
  },
  {
   "cell_type": "code",
   "execution_count": 938,
   "id": "90dcc479-368c-4804-8a7d-7f2b3de1940d",
   "metadata": {},
   "outputs": [],
   "source": [
    "from sklearn.cluster import KMeans\n",
    "\n",
    "k = 8  \n",
    "kmeans = KMeans(n_clusters=k, random_state=42)\n",
    "df['Cluster'] = kmeans.fit_predict(skill_matrix)"
   ]
  },
  {
   "cell_type": "code",
   "execution_count": 908,
   "id": "19953d95-062d-470b-8222-ca786cb2c66a",
   "metadata": {},
   "outputs": [
    {
     "data": {
      "text/plain": [
       "0    40\n",
       "3    40\n",
       "2    20\n",
       "4    20\n",
       "7    20\n",
       "6    20\n",
       "1    20\n",
       "5    20\n",
       "Name: Cluster, dtype: int64"
      ]
     },
     "execution_count": 908,
     "metadata": {},
     "output_type": "execute_result"
    }
   ],
   "source": [
    "df['Cluster'].value_counts()"
   ]
  },
  {
   "cell_type": "code",
   "execution_count": 949,
   "id": "1f603e26-9452-4632-a397-d22ca308b889",
   "metadata": {},
   "outputs": [],
   "source": [
    "import pickle\n",
    "pickle.dump(kmeans, open('jobclassifier.pkl','wb'))   "
   ]
  },
  {
   "cell_type": "markdown",
   "id": "a1d9395f-c764-479a-a05c-c489a850207e",
   "metadata": {},
   "source": [
    "# Vocabulary of the skillset"
   ]
  },
  {
   "cell_type": "code",
   "execution_count": 911,
   "id": "4baaee34-b6de-41d8-8f57-37bba1777913",
   "metadata": {},
   "outputs": [
    {
     "data": {
      "text/plain": [
       "array(['aartificial intelligence', 'algorithms', 'amazon redshift',\n",
       "       'analytical and problem solving', 'apache hadoop', 'api', 'aws',\n",
       "       'azure', 'data analysis', 'data analytics',\n",
       "       'data science techniques', 'data structuring', 'database',\n",
       "       'design', 'effective communication skills', 'generative ai',\n",
       "       'google bigquery', 'google cloud platform  gcp ', 'gpt', 'graphql',\n",
       "       'kubernetes k s', 'large language models   llms',\n",
       "       'leadership skill', 'machine learning techniques',\n",
       "       'natural language processing  nlp ', 'next js', 'numpy', 'pandas',\n",
       "       'product management', 'python programming', 'r programming',\n",
       "       'react js', 'sql', 'teamwork', 'typescript'], dtype=object)"
      ]
     },
     "execution_count": 911,
     "metadata": {},
     "output_type": "execute_result"
    }
   ],
   "source": [
    "terms = vectorizer.get_feature_names_out()\n",
    "terms"
   ]
  },
  {
   "cell_type": "code",
   "execution_count": 913,
   "id": "7728132d-c4e9-42d4-9138-03e2016b4a1a",
   "metadata": {},
   "outputs": [
    {
     "data": {
      "text/plain": [
       "35"
      ]
     },
     "execution_count": 913,
     "metadata": {},
     "output_type": "execute_result"
    }
   ],
   "source": [
    "len(terms)"
   ]
  },
  {
   "cell_type": "markdown",
   "id": "d1a7c896-d854-4df4-aaeb-20b4279cc7e9",
   "metadata": {},
   "source": [
    "# Clusters"
   ]
  },
  {
   "cell_type": "code",
   "execution_count": 928,
   "id": "4fd83e48-6cd7-4785-9a08-87ee7a9351f3",
   "metadata": {},
   "outputs": [
    {
     "name": "stdout",
     "output_type": "stream",
     "text": [
      "\n",
      "Cluster 0 Top Skills:\n",
      "api, teamwork, effective communication skills, design, data science techniques, large language models   llms, python programming, aartificial intelligence, aws, generative ai\n",
      "\n",
      "Cluster 1 Top Skills:\n",
      "leadership skill, design, machine learning techniques, typescript, generative ai, database, data structuring, data science techniques, data analytics, data analysis\n",
      "\n",
      "Cluster 2 Top Skills:\n",
      "data analytics, generative ai, product management, pandas, numpy, gpt, sql, effective communication skills, data science techniques, python programming\n",
      "\n",
      "Cluster 3 Top Skills:\n",
      "natural language processing  nlp , machine learning techniques, large language models   llms, aartificial intelligence, data science techniques, python programming, database, data structuring, data analytics, data analysis\n",
      "\n",
      "Cluster 4 Top Skills:\n",
      "algorithms, data structuring, design, machine learning techniques, aartificial intelligence, data analytics, effective communication skills, database, data science techniques, data analysis\n",
      "\n",
      "Cluster 5 Top Skills:\n",
      "google bigquery, r programming, apache hadoop, amazon redshift, google cloud platform  gcp , sql, data science techniques, python programming, algorithms, analytical and problem solving\n",
      "\n",
      "Cluster 6 Top Skills:\n",
      "aws, azure, kubernetes k s, google cloud platform  gcp , machine learning techniques, large language models   llms, aartificial intelligence, pandas, numpy, algorithms\n",
      "\n",
      "Cluster 7 Top Skills:\n",
      "typescript, analytical and problem solving, react js, data analysis, database, next js, graphql, api, teamwork, effective communication skills\n"
     ]
    }
   ],
   "source": [
    "import numpy as np\n",
    "import pandas as pd\n",
    "\n",
    "# Inverse transform TF-IDF matrix to readable terms\n",
    "terms = vectorizer.get_feature_names_out()\n",
    "\n",
    "def top_keywords_per_cluster(tfidf_matrix, labels, n_terms=10):\n",
    "    cluster_df = pd.DataFrame(tfidf_matrix.todense()).groupby(labels).mean()\n",
    "    for i, row in cluster_df.iterrows():\n",
    "        print(f\"\\nCluster {i} Top Skills:\")\n",
    "        print(', '.join([terms[t] for t in np.argsort(row)[-n_terms:][::-1]]))\n",
    "\n",
    "top_keywords_per_cluster(skill_matrix, df['Cluster'])"
   ]
  },
  {
   "cell_type": "markdown",
   "id": "2654f21d-f279-4505-8a44-12a82ed91229",
   "metadata": {},
   "source": [
    "# Job Clusters based on skills"
   ]
  },
  {
   "cell_type": "code",
   "execution_count": 931,
   "id": "e6340773-5fdc-4b13-a80b-c89f9f4c043a",
   "metadata": {},
   "outputs": [
    {
     "data": {
      "image/png": "[encoded data removed]",
      "text/plain": [
       "<Figure size 1000x600 with 2 Axes>"
      ]
     },
     "metadata": {},
     "output_type": "display_data"
    }
   ],
   "source": [
    "from sklearn.decomposition import PCA\n",
    "import matplotlib.pyplot as plt\n",
    "\n",
    "pca = PCA(n_components=2)\n",
    "components = pca.fit_transform(skill_matrix.toarray())\n",
    "\n",
    "plt.figure(figsize=(10, 6))\n",
    "plt.scatter(components[:, 0], components[:, 1], c=df['Cluster'], cmap='tab10')\n",
    "plt.title('Job Clusters based on Skills')\n",
    "plt.xlabel('PCA Component 1')\n",
    "plt.ylabel('PCA Component 2')\n",
    "plt.colorbar()\n",
    "plt.show()"
   ]
  },
  {
   "cell_type": "markdown",
   "id": "d1c99e60-cebf-4ac2-ba17-8ed123a9f532",
   "metadata": {},
   "source": [
    "# Assigning Job Category based on skills"
   ]
  },
  {
   "cell_type": "code",
   "execution_count": 863,
   "id": "43659bbc-23c2-4fd8-8329-71759e2b59d5",
   "metadata": {},
   "outputs": [],
   "source": [
    "labels_dict = {0:\"AI Product Manager / Tech Lead\",1:\"AI Developer / Applied ML Engineer\",2:\"Cloud ML Engineer / MLOps Engineer\",3:\"NLP/LLM Specialist / Research Engineer\",4:\"Big Data Engineer / Data Platform Engineer\",5: \"AI Product Analyst / GenAI Product Manager\",6: \"Machine Learning Engineer / Data Scientist\",7:\"Full Stack Developer (Data-Driven)\"}"
   ]
  },
  {
   "cell_type": "code",
   "execution_count": 865,
   "id": "b0cc5dce-fd5a-4b9a-9040-ab265630df9e",
   "metadata": {},
   "outputs": [],
   "source": [
    "df['Job Category'] = df['Cluster'].map(labels_dict)"
   ]
  },
  {
   "cell_type": "markdown",
   "id": "765d1cd7-dfbb-4348-8170-8080a2447920",
   "metadata": {},
   "source": [
    "# Jobs Categorization"
   ]
  },
  {
   "cell_type": "code",
   "execution_count": 868,
   "id": "605f6ec9-99c7-43a3-a5fa-e990e92442cf",
   "metadata": {},
   "outputs": [
    {
     "data": {
      "text/plain": [
       "AI Product Manager / Tech Lead                40\n",
       "NLP/LLM Specialist / Research Engineer        40\n",
       "Cloud ML Engineer / MLOps Engineer            20\n",
       "Big Data Engineer / Data Platform Engineer    20\n",
       "Full Stack Developer (Data-Driven)            20\n",
       "Machine Learning Engineer / Data Scientist    20\n",
       "AI Developer / Applied ML Engineer            20\n",
       "AI Product Analyst / GenAI Product Manager    20\n",
       "Name: Job Category, dtype: int64"
      ]
     },
     "execution_count": 868,
     "metadata": {},
     "output_type": "execute_result"
    }
   ],
   "source": [
    "df['Job Category'].value_counts()"
   ]
  },
  {
   "cell_type": "markdown",
   "id": "5a100999-4874-4853-83e1-9cc8f427762f",
   "metadata": {},
   "source": [
    "# Job category for the given skills"
   ]
  },
  {
   "cell_type": "code",
   "execution_count": 871,
   "id": "100dc422-b45b-47d8-8e72-63673aba28c7",
   "metadata": {},
   "outputs": [],
   "source": [
    "user_skills = [\"next js\"]"
   ]
  },
  {
   "cell_type": "code",
   "execution_count": 873,
   "id": "df0dbf64-36b0-471b-9337-646c559bb576",
   "metadata": {},
   "outputs": [],
   "source": [
    "user_skills_text = ' '.join(user_skills)\n",
    "user_vector = vectorizer.transform([user_skills_text])"
   ]
  },
  {
   "cell_type": "code",
   "execution_count": 875,
   "id": "fee243e8-a1d6-4f8e-ad49-f297e312622f",
   "metadata": {},
   "outputs": [
    {
     "data": {
      "text/plain": [
       "'Full Stack Developer (Data-Driven)'"
      ]
     },
     "execution_count": 875,
     "metadata": {},
     "output_type": "execute_result"
    }
   ],
   "source": [
    "user_cluster = kmeans.predict(user_vector)[0]\n",
    "labels_dict[user_cluster]"
   ]
  },
  {
   "cell_type": "code",
   "execution_count": 877,
   "id": "05e75ddf-b665-457c-86d4-25f580b367a7",
   "metadata": {},
   "outputs": [],
   "source": [
    "recommended_jobs = df[df['Cluster'] == user_cluster]"
   ]
  },
  {
   "cell_type": "code",
   "execution_count": 879,
   "id": "25268092-802c-4615-a37a-b2e9bcc63ef2",
   "metadata": {},
   "outputs": [
    {
     "data": {
      "text/html": [
       "<div>\n",
       "<style scoped>\n",
       "    .dataframe tbody tr th:only-of-type {\n",
       "        vertical-align: middle;\n",
       "    }\n",
       "\n",
       "    .dataframe tbody tr th {\n",
       "        vertical-align: top;\n",
       "    }\n",
       "\n",
       "    .dataframe thead th {\n",
       "        text-align: right;\n",
       "    }\n",
       "</style>\n",
       "<table border=\"1\" class=\"dataframe\">\n",
       "  <thead>\n",
       "    <tr style=\"text-align: right;\">\n",
       "      <th></th>\n",
       "      <th>Title</th>\n",
       "      <th>Company</th>\n",
       "      <th>Location</th>\n",
       "      <th>Experience</th>\n",
       "      <th>Summary</th>\n",
       "      <th>Skills</th>\n",
       "      <th>Skills_clean</th>\n",
       "      <th>Filter_skills</th>\n",
       "      <th>Cluster</th>\n",
       "      <th>Job Category</th>\n",
       "    </tr>\n",
       "  </thead>\n",
       "  <tbody>\n",
       "    <tr>\n",
       "      <th>2</th>\n",
       "      <td>Staff Software Engineer - Monetization, Poe (R...</td>\n",
       "      <td>Quora, Inc.</td>\n",
       "      <td>India</td>\n",
       "      <td>8-10 year</td>\n",
       "      <td>About Quora:Quora’s mission is to grow and sha...</td>\n",
       "      <td>Aartificial intelligence,Analytical and Proble...</td>\n",
       "      <td>aartificial intelligence,analytical and proble...</td>\n",
       "      <td>aartificial intelligence analytical and proble...</td>\n",
       "      <td>7</td>\n",
       "      <td>Full Stack Developer (Data-Driven)</td>\n",
       "    </tr>\n",
       "    <tr>\n",
       "      <th>12</th>\n",
       "      <td>Staff Software Engineer - Monetization, Poe (R...</td>\n",
       "      <td>Quora, Inc.</td>\n",
       "      <td>India</td>\n",
       "      <td>8-10 year</td>\n",
       "      <td>About Quora:Quora’s mission is to grow and sha...</td>\n",
       "      <td>Aartificial intelligence,Analytical and Proble...</td>\n",
       "      <td>aartificial intelligence,analytical and proble...</td>\n",
       "      <td>aartificial intelligence analytical and proble...</td>\n",
       "      <td>7</td>\n",
       "      <td>Full Stack Developer (Data-Driven)</td>\n",
       "    </tr>\n",
       "    <tr>\n",
       "      <th>22</th>\n",
       "      <td>Staff Software Engineer - Monetization, Poe (R...</td>\n",
       "      <td>Quora, Inc.</td>\n",
       "      <td>India</td>\n",
       "      <td>8-10 year</td>\n",
       "      <td>About Quora:Quora’s mission is to grow and sha...</td>\n",
       "      <td>Aartificial intelligence,Analytical and Proble...</td>\n",
       "      <td>aartificial intelligence,analytical and proble...</td>\n",
       "      <td>aartificial intelligence analytical and proble...</td>\n",
       "      <td>7</td>\n",
       "      <td>Full Stack Developer (Data-Driven)</td>\n",
       "    </tr>\n",
       "    <tr>\n",
       "      <th>32</th>\n",
       "      <td>Staff Software Engineer - Monetization, Poe (R...</td>\n",
       "      <td>Quora, Inc.</td>\n",
       "      <td>India</td>\n",
       "      <td>8-10 year</td>\n",
       "      <td>About Quora:Quora’s mission is to grow and sha...</td>\n",
       "      <td>Aartificial intelligence,Analytical and Proble...</td>\n",
       "      <td>aartificial intelligence,analytical and proble...</td>\n",
       "      <td>aartificial intelligence analytical and proble...</td>\n",
       "      <td>7</td>\n",
       "      <td>Full Stack Developer (Data-Driven)</td>\n",
       "    </tr>\n",
       "    <tr>\n",
       "      <th>42</th>\n",
       "      <td>Staff Software Engineer - Monetization, Poe (R...</td>\n",
       "      <td>Quora, Inc.</td>\n",
       "      <td>India</td>\n",
       "      <td>8-10 year</td>\n",
       "      <td>About Quora:Quora’s mission is to grow and sha...</td>\n",
       "      <td>Aartificial intelligence,Analytical and Proble...</td>\n",
       "      <td>aartificial intelligence,analytical and proble...</td>\n",
       "      <td>aartificial intelligence analytical and proble...</td>\n",
       "      <td>7</td>\n",
       "      <td>Full Stack Developer (Data-Driven)</td>\n",
       "    </tr>\n",
       "  </tbody>\n",
       "</table>\n",
       "</div>"
      ],
      "text/plain": [
       "                                                Title      Company Location  \\\n",
       "2   Staff Software Engineer - Monetization, Poe (R...  Quora, Inc.    India   \n",
       "12  Staff Software Engineer - Monetization, Poe (R...  Quora, Inc.    India   \n",
       "22  Staff Software Engineer - Monetization, Poe (R...  Quora, Inc.    India   \n",
       "32  Staff Software Engineer - Monetization, Poe (R...  Quora, Inc.    India   \n",
       "42  Staff Software Engineer - Monetization, Poe (R...  Quora, Inc.    India   \n",
       "\n",
       "   Experience                                            Summary  \\\n",
       "2   8-10 year  About Quora:Quora’s mission is to grow and sha...   \n",
       "12  8-10 year  About Quora:Quora’s mission is to grow and sha...   \n",
       "22  8-10 year  About Quora:Quora’s mission is to grow and sha...   \n",
       "32  8-10 year  About Quora:Quora’s mission is to grow and sha...   \n",
       "42  8-10 year  About Quora:Quora’s mission is to grow and sha...   \n",
       "\n",
       "                                               Skills  \\\n",
       "2   Aartificial intelligence,Analytical and Proble...   \n",
       "12  Aartificial intelligence,Analytical and Proble...   \n",
       "22  Aartificial intelligence,Analytical and Proble...   \n",
       "32  Aartificial intelligence,Analytical and Proble...   \n",
       "42  Aartificial intelligence,Analytical and Proble...   \n",
       "\n",
       "                                         Skills_clean  \\\n",
       "2   aartificial intelligence,analytical and proble...   \n",
       "12  aartificial intelligence,analytical and proble...   \n",
       "22  aartificial intelligence,analytical and proble...   \n",
       "32  aartificial intelligence,analytical and proble...   \n",
       "42  aartificial intelligence,analytical and proble...   \n",
       "\n",
       "                                        Filter_skills  Cluster  \\\n",
       "2   aartificial intelligence analytical and proble...        7   \n",
       "12  aartificial intelligence analytical and proble...        7   \n",
       "22  aartificial intelligence analytical and proble...        7   \n",
       "32  aartificial intelligence analytical and proble...        7   \n",
       "42  aartificial intelligence analytical and proble...        7   \n",
       "\n",
       "                          Job Category  \n",
       "2   Full Stack Developer (Data-Driven)  \n",
       "12  Full Stack Developer (Data-Driven)  \n",
       "22  Full Stack Developer (Data-Driven)  \n",
       "32  Full Stack Developer (Data-Driven)  \n",
       "42  Full Stack Developer (Data-Driven)  "
      ]
     },
     "execution_count": 879,
     "metadata": {},
     "output_type": "execute_result"
    }
   ],
   "source": [
    "recommended_jobs.head()"
   ]
  },
  {
   "cell_type": "code",
   "execution_count": 881,
   "id": "bc63343d-8a29-408a-b18f-6d431d9380af",
   "metadata": {},
   "outputs": [
    {
     "name": "stdout",
     "output_type": "stream",
     "text": [
      "                                                 Title      Company Location\n",
      "2    Staff Software Engineer - Monetization, Poe (R...  Quora, Inc.    India\n",
      "12   Staff Software Engineer - Monetization, Poe (R...  Quora, Inc.    India\n",
      "22   Staff Software Engineer - Monetization, Poe (R...  Quora, Inc.    India\n",
      "32   Staff Software Engineer - Monetization, Poe (R...  Quora, Inc.    India\n",
      "42   Staff Software Engineer - Monetization, Poe (R...  Quora, Inc.    India\n",
      "52   Staff Software Engineer - Monetization, Poe (R...  Quora, Inc.    India\n",
      "62   Staff Software Engineer - Monetization, Poe (R...  Quora, Inc.    India\n",
      "72   Staff Software Engineer - Monetization, Poe (R...  Quora, Inc.    India\n",
      "82   Staff Software Engineer - Monetization, Poe (R...  Quora, Inc.    India\n",
      "92   Staff Software Engineer - Monetization, Poe (R...  Quora, Inc.    India\n",
      "102  Staff Software Engineer - Monetization, Poe (R...  Quora, Inc.    India\n",
      "112  Staff Software Engineer - Monetization, Poe (R...  Quora, Inc.    India\n",
      "122  Staff Software Engineer - Monetization, Poe (R...  Quora, Inc.    India\n",
      "132  Staff Software Engineer - Monetization, Poe (R...  Quora, Inc.    India\n",
      "142  Staff Software Engineer - Monetization, Poe (R...  Quora, Inc.    India\n",
      "152  Staff Software Engineer - Monetization, Poe (R...  Quora, Inc.    India\n",
      "162  Staff Software Engineer - Monetization, Poe (R...  Quora, Inc.    India\n",
      "172  Staff Software Engineer - Monetization, Poe (R...  Quora, Inc.    India\n",
      "182  Staff Software Engineer - Monetization, Poe (R...  Quora, Inc.    India\n",
      "192  Staff Software Engineer - Monetization, Poe (R...  Quora, Inc.    India\n"
     ]
    }
   ],
   "source": [
    "print(recommended_jobs[['Title', 'Company', 'Location']])"
   ]
  },
  {
   "cell_type": "code",
   "execution_count": null,
   "id": "8053fa0d-2d4e-4aa1-b459-8e0a69123b42",
   "metadata": {},
   "outputs": [],
   "source": []
  },
  {
   "cell_type": "markdown",
   "id": "935561dd-9a31-4a1c-86bf-552d952c1482",
   "metadata": {},
   "source": [
    "# Job Recommendation!"
   ]
  },
  {
   "cell_type": "code",
   "execution_count": 885,
   "id": "b3f96237-62f5-4746-be18-992210e84cfd",
   "metadata": {},
   "outputs": [],
   "source": [
    "user_skills = \"machine learning, deep learning, python, pandas\"\n",
    "\n",
    "user_skills_cleaned = user_skills.replace(' ', '').lower()\n",
    "user_vector = vectorizer.transform([user_skills_cleaned])"
   ]
  },
  {
   "cell_type": "code",
   "execution_count": 887,
   "id": "a6208774-ddd0-410f-a79c-7348489d3bcf",
   "metadata": {},
   "outputs": [],
   "source": [
    "from sklearn.metrics.pairwise import cosine_similarity\n",
    "\n",
    "similarity_scores = cosine_similarity(user_vector, skill_matrix)"
   ]
  },
  {
   "cell_type": "code",
   "execution_count": 889,
   "id": "86a1be01-fa93-4a59-bb5c-40ad7041e2f8",
   "metadata": {},
   "outputs": [
    {
     "data": {
      "text/html": [
       "<div>\n",
       "<style scoped>\n",
       "    .dataframe tbody tr th:only-of-type {\n",
       "        vertical-align: middle;\n",
       "    }\n",
       "\n",
       "    .dataframe tbody tr th {\n",
       "        vertical-align: top;\n",
       "    }\n",
       "\n",
       "    .dataframe thead th {\n",
       "        text-align: right;\n",
       "    }\n",
       "</style>\n",
       "<table border=\"1\" class=\"dataframe\">\n",
       "  <thead>\n",
       "    <tr style=\"text-align: right;\">\n",
       "      <th></th>\n",
       "      <th>Title</th>\n",
       "      <th>Company</th>\n",
       "      <th>Location</th>\n",
       "      <th>Skills</th>\n",
       "    </tr>\n",
       "  </thead>\n",
       "  <tbody>\n",
       "    <tr>\n",
       "      <th>0</th>\n",
       "      <td>Principal Product Manager - Growth, Poe (Remote)</td>\n",
       "      <td>Quora, Inc.</td>\n",
       "      <td>India</td>\n",
       "      <td>Aartificial intelligence,Data Analytics,Data s...</td>\n",
       "    </tr>\n",
       "    <tr>\n",
       "      <th>80</th>\n",
       "      <td>Principal Product Manager - Growth, Poe (Remote)</td>\n",
       "      <td>Quora, Inc.</td>\n",
       "      <td>India</td>\n",
       "      <td>Aartificial intelligence,Data Analytics,Data s...</td>\n",
       "    </tr>\n",
       "    <tr>\n",
       "      <th>140</th>\n",
       "      <td>Principal Product Manager - Growth, Poe (Remote)</td>\n",
       "      <td>Quora, Inc.</td>\n",
       "      <td>India</td>\n",
       "      <td>Aartificial intelligence,Data Analytics,Data s...</td>\n",
       "    </tr>\n",
       "    <tr>\n",
       "      <th>150</th>\n",
       "      <td>Principal Product Manager - Growth, Poe (Remote)</td>\n",
       "      <td>Quora, Inc.</td>\n",
       "      <td>India</td>\n",
       "      <td>Aartificial intelligence,Data Analytics,Data s...</td>\n",
       "    </tr>\n",
       "    <tr>\n",
       "      <th>60</th>\n",
       "      <td>Principal Product Manager - Growth, Poe (Remote)</td>\n",
       "      <td>Quora, Inc.</td>\n",
       "      <td>India</td>\n",
       "      <td>Aartificial intelligence,Data Analytics,Data s...</td>\n",
       "    </tr>\n",
       "  </tbody>\n",
       "</table>\n",
       "</div>"
      ],
      "text/plain": [
       "                                                Title      Company Location  \\\n",
       "0    Principal Product Manager - Growth, Poe (Remote)  Quora, Inc.    India   \n",
       "80   Principal Product Manager - Growth, Poe (Remote)  Quora, Inc.    India   \n",
       "140  Principal Product Manager - Growth, Poe (Remote)  Quora, Inc.    India   \n",
       "150  Principal Product Manager - Growth, Poe (Remote)  Quora, Inc.    India   \n",
       "60   Principal Product Manager - Growth, Poe (Remote)  Quora, Inc.    India   \n",
       "\n",
       "                                                Skills  \n",
       "0    Aartificial intelligence,Data Analytics,Data s...  \n",
       "80   Aartificial intelligence,Data Analytics,Data s...  \n",
       "140  Aartificial intelligence,Data Analytics,Data s...  \n",
       "150  Aartificial intelligence,Data Analytics,Data s...  \n",
       "60   Aartificial intelligence,Data Analytics,Data s...  "
      ]
     },
     "execution_count": 889,
     "metadata": {},
     "output_type": "execute_result"
    }
   ],
   "source": [
    "import numpy as np\n",
    "\n",
    "# Get top 5 most similar jobs\n",
    "top_n = 5\n",
    "top_indices = np.argsort(similarity_scores[0])[::-1][:top_n]\n",
    "\n",
    "# Show top job recommendations\n",
    "recommended_jobs = df.iloc[top_indices][['Title', 'Company', 'Location', 'Skills']]\n",
    "recommended_jobs"
   ]
  },
  {
   "cell_type": "code",
   "execution_count": null,
   "id": "dad6da48-4ccf-43bc-ad2f-c403c56d6676",
   "metadata": {},
   "outputs": [],
   "source": []
  },
  {
   "cell_type": "code",
   "execution_count": null,
   "id": "3a368c23-6cf6-4a32-9988-05da842fe98f",
   "metadata": {},
   "outputs": [],
   "source": []
  }
 ],
 "metadata": {
  "kernelspec": {
   "display_name": "Python 3 (ipykernel)",
   "language": "python",
   "name": "python3"
  },
  "language_info": {
   "codemirror_mode": {
    "name": "ipython",
    "version": 3
   },
   "file_extension": ".py",
   "mimetype": "text/x-python",
   "name": "python",
   "nbconvert_exporter": "python",
   "pygments_lexer": "ipython3",
   "version": "3.9.19"
  }
 },
 "nbformat": 4,
 "nbformat_minor": 5
}
